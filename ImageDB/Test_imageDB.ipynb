{
 "cells": [
  {
   "cell_type": "code",
   "execution_count": 1,
   "metadata": {},
   "outputs": [],
   "source": [
    "from ImageDatabase import ImageDatabase"
   ]
  },
  {
   "cell_type": "code",
   "execution_count": 2,
   "metadata": {},
   "outputs": [],
   "source": [
    "db = ImageDatabase('/Users/kevin.yamauchi/Documents/db_credentials.json')\n",
    "\n",
    "dataset_identifier = \"ISP-2018-06-08-15-45-00-0001\""
   ]
  },
  {
   "cell_type": "markdown",
   "metadata": {},
   "source": [
    "# Metadata\n",
    "We can download metadata for an entire multidimensional acquistion. These are directly from Micromanager and the fields are explained [here](https://micro-manager.org/wiki/Files_and_Metadata) and [here](https://micro-manager.org/wiki/Micro-Manager_File_Formats). We could extract physical coordinates from these metadata."
   ]
  },
  {
   "cell_type": "code",
   "execution_count": 3,
   "metadata": {},
   "outputs": [
    {
     "name": "stderr",
     "output_type": "stream",
     "text": [
      "/opt/local/Library/Frameworks/Python.framework/Versions/3.6/lib/python3.6/site-packages/psycopg2/__init__.py:144: UserWarning: The psycopg2 wheel package will be renamed from release 2.8; in order to keep installing from binary please use \"pip install psycopg2-binary\" instead. For details see: <http://initd.org/psycopg/docs/install.html#binary-install-from-pypi>.\n",
      "  \"\"\")\n"
     ]
    },
    {
     "name": "stdout",
     "output_type": "stream",
     "text": [
      "{'ROI': [0, 0, 2048, 2048], 'UUID': '2e39c52a-6055-4579-8b2e-ff8ead0b3848', 'Depth': 2, 'Width': 2048, 'Frames': 1, 'Height': 2048, 'IJType': 1, 'Prefix': 'ISP_293T_TFRC_sgRNA2_20180601_1', 'Slices': 13, 'Source': 'Micro-Manager', 'ChNames': ['DAPI', 'FITC', 'Cy3'], 'Comment': '', 'GridRow': 0, 'BitDepth': 16, 'ChColors': [-10066177, -13421569, -205], 'Channels': 3, 'UserName': 'insituscope', 'Directory': 'C:\\\\Users\\\\InSituScope\\\\Desktop\\\\ISP-2018-06-01-001', 'PixelType': 'GRAY16', 'Positions': 6, 'TimeFirst': False, 'z-step_um': 0.7999999999999998, 'GridColumn': 0, 'Interval_ms': 0, 'PixelAspect': 1, 'SlicesFirst': True, 'ComputerName': 'BioEInSituTranscript1', 'PixelSize_um': 0, 'CameraTimeout': 20000, 'ChContrastMax': [65536, 65536, 65536], 'ChContrastMin': [0, 0, 0], 'MetadataVersion': 10, 'CustomIntervals_ms': [], 'InitialPositionList': [{'Label': 'Pos0', 'GridRowIndex': 0, 'GridColumnIndex': 0, 'DeviceCoordinatesUm': {'XY Stage': [42825.91796875, 50403.34375], 'FocusDrive': [590.90889], 'Adaptive Focus Control Offset': [0]}}, {'Label': 'Pos1', 'GridRowIndex': 0, 'GridColumnIndex': 0, 'DeviceCoordinatesUm': {'XY Stage': [42484.86328125, 50402.61328125], 'FocusDrive': [590.90889], 'Adaptive Focus Control Offset': [0]}}, {'Label': 'Pos2', 'GridRowIndex': 0, 'GridColumnIndex': 0, 'DeviceCoordinatesUm': {'XY Stage': [42042.17578125, 50467.5546875], 'FocusDrive': [591.54813], 'Adaptive Focus Control Offset': [0]}}, {'Label': 'Pos3', 'GridRowIndex': 0, 'GridColumnIndex': 0, 'DeviceCoordinatesUm': {'XY Stage': [42022.61328125, 50845.9375], 'FocusDrive': [591.54813], 'Adaptive Focus Control Offset': [0]}}, {'Label': 'Pos4', 'GridRowIndex': 0, 'GridColumnIndex': 0, 'DeviceCoordinatesUm': {'XY Stage': [41487.9296875, 50797.39453125], 'FocusDrive': [591.65467], 'Adaptive Focus Control Offset': [0]}}, {'Label': 'Pos5', 'GridRowIndex': 0, 'GridColumnIndex': 0, 'DeviceCoordinatesUm': {'XY Stage': [41150.3046875, 50566.515625], 'FocusDrive': [590.5131700000001], 'Adaptive Focus Control Offset': [0]}}], 'MicroManagerVersion': '1.4.23 20171128', 'KeepShutterOpenSlices': False, 'KeepShutterOpenChannels': False}\n"
     ]
    }
   ],
   "source": [
    "print(db.getAcqMeta(dataset_identifier))"
   ]
  },
  {
   "cell_type": "markdown",
   "metadata": {},
   "source": [
    "# Downloading images\n",
    "We can use the getStack method to download images as numpy arrays. They are returned as (rnd, channel, z, x, y) NDarrays. In multi FOV, multi-round experiments, the pos_idx corresponds to the field of view index and time_idx is equivalent to round. Since our current experiments are not barcoded, we currently just download one channel at a time and process the channels independently."
   ]
  },
  {
   "cell_type": "code",
   "execution_count": 4,
   "metadata": {},
   "outputs": [
    {
     "name": "stderr",
     "output_type": "stream",
     "text": [
      "100%|██████████| 13/13 [00:32<00:00,  2.48s/it]\n"
     ]
    }
   ],
   "source": [
    "im = db.getStack(dataset_identifier, channel='FITC', pos_idx=1, time_idx=0, verbose=True)"
   ]
  },
  {
   "cell_type": "code",
   "execution_count": 5,
   "metadata": {},
   "outputs": [
    {
     "name": "stdout",
     "output_type": "stream",
     "text": [
      "(1, 1, 13, 2048, 2048)\n",
      "uint16\n"
     ]
    }
   ],
   "source": [
    "print(im.shape)\n",
    "print(im.dtype)"
   ]
  },
  {
   "cell_type": "markdown",
   "metadata": {},
   "source": [
    "# ImageStack\n",
    "We then instantiate an ImageStack with the downloaded numpy array."
   ]
  },
  {
   "cell_type": "code",
   "execution_count": 6,
   "metadata": {},
   "outputs": [
    {
     "name": "stderr",
     "output_type": "stream",
     "text": [
      "/Users/kevin.yamauchi/Documents/starfish/starfish/imagestack/imagestack.py:273: UserWarning: ImageStack detected as uint16. Converting to float32...\n",
      "  warnings.warn(f\"ImageStack detected as {array.dtype}. Converting to float32...\")\n",
      "100%|██████████| 13/13 [00:00<00:00, 64.94it/s]\n"
     ]
    }
   ],
   "source": [
    "from starfish.imagestack.imagestack import ImageStack\n",
    "from starfish.types import Features, Indices\n",
    "\n",
    "from skimage import img_as_float32\n",
    "\n",
    "IS = ImageStack.from_numpy_array(im)"
   ]
  },
  {
   "cell_type": "code",
   "execution_count": 8,
   "metadata": {},
   "outputs": [
    {
     "data": {
      "application/vnd.jupyter.widget-view+json": {
       "model_id": "af15ab9473d841fa918eb1d043f9dab4",
       "version_major": 2,
       "version_minor": 0
      },
      "text/html": [
       "<p>Failed to display Jupyter Widget of type <code>interactive</code>.</p>\n",
       "<p>\n",
       "  If you're reading this message in the Jupyter Notebook or JupyterLab Notebook, it may mean\n",
       "  that the widgets JavaScript is still loading. If this message persists, it\n",
       "  likely means that the widgets JavaScript library is either not installed or\n",
       "  not enabled. See the <a href=\"https://ipywidgets.readthedocs.io/en/stable/user_install.html\">Jupyter\n",
       "  Widgets Documentation</a> for setup instructions.\n",
       "</p>\n",
       "<p>\n",
       "  If you're reading this message in another frontend (for example, a static\n",
       "  rendering on GitHub or <a href=\"https://nbviewer.jupyter.org/\">NBViewer</a>),\n",
       "  it may mean that your frontend doesn't currently support widgets.\n",
       "</p>\n"
      ],
      "text/plain": [
       "interactive(children=(IntSlider(value=0, description='plane_index', max=12), Output()), _dom_classes=('widget-interact',))"
      ]
     },
     "metadata": {},
     "output_type": "display_data"
    },
    {
     "data": {
      "text/plain": [
       "<function starfish.imagestack.imagestack.ImageStack._show_matplotlib_inline.<locals>.display_slice(plane_index=0)>"
      ]
     },
     "execution_count": 8,
     "metadata": {},
     "output_type": "execute_result"
    }
   ],
   "source": [
    "IS.show_stack({Indices.CH: 0})"
   ]
  }
 ],
 "metadata": {
  "kernelspec": {
   "display_name": "Python 3",
   "language": "python",
   "name": "python3"
  },
  "language_info": {
   "codemirror_mode": {
    "name": "ipython",
    "version": 3
   },
   "file_extension": ".py",
   "mimetype": "text/x-python",
   "name": "python",
   "nbconvert_exporter": "python",
   "pygments_lexer": "ipython3",
   "version": "3.6.4"
  }
 },
 "nbformat": 4,
 "nbformat_minor": 2
}
